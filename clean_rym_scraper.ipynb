{
 "cells": [
  {
   "cell_type": "markdown",
   "id": "406e4f55-939b-4258-ad38-e3f03f15369e",
   "metadata": {},
   "source": [
    "# Initialization"
   ]
  },
  {
   "cell_type": "code",
   "execution_count": 2,
   "id": "fd867e1f-0cda-4ae5-bd62-4eeed352b0f7",
   "metadata": {},
   "outputs": [],
   "source": [
    "#import packages\n",
    "import time\n",
    "import pandas as pd\n",
    "import numpy as np\n",
    "import json\n",
    "import csv\n",
    "from collections import defaultdict\n",
    "\n",
    "from selenium import webdriver\n",
    "from selenium.common.exceptions import NoSuchElementException \n",
    "from selenium.webdriver.chrome.service import Service\n",
    "from selenium.webdriver.common.by import By\n",
    "from selenium.webdriver.support.ui import WebDriverWait\n",
    "from selenium.webdriver.support import expected_conditions as EC"
   ]
  },
  {
   "cell_type": "code",
   "execution_count": 8,
   "id": "ded82428-dc63-47dc-bf1f-b974bfa7aa44",
   "metadata": {},
   "outputs": [],
   "source": [
    "# Iniitialize container to store the reviews and relative content (run once)\n",
    "data = defaultdict(list)"
   ]
  },
  {
   "cell_type": "code",
   "execution_count": 5,
   "id": "0f7886c6-6f17-4f88-8f82-932def74ea21",
   "metadata": {},
   "outputs": [],
   "source": [
    "#initialize chrome driver, make sure Chrome Executer with same version of your Web browser in the current folder\n",
    "driver = webdriver.Chrome()\n",
    "driver.set_window_size(1120, 1000)\n",
    "\n",
    "#url of Rate Your Music\n",
    "url = 'https://rateyourmusic.com'\n",
    "driver.get(url)"
   ]
  },
  {
   "cell_type": "code",
   "execution_count": 6,
   "id": "d6ce5d5d-76e8-47c3-af0d-4487c08d57d1",
   "metadata": {},
   "outputs": [],
   "source": [
    "# Consent adds automatically (will create repetitions for the reviews in some case but can be handled)\n",
    "# Otherwise click manually on not consenting ads\n",
    "element = WebDriverWait(driver, 5).until(EC.element_to_be_clickable((By.XPATH, './/button[@class=\"fc-button fc-cta-consent fc-primary-button\"]')))\n",
    "driver.execute_script(\"arguments[0].click();\", element)"
   ]
  },
  {
   "cell_type": "code",
   "execution_count": 7,
   "id": "f7e322f2-0845-4a08-b037-166f92da8dfe",
   "metadata": {},
   "outputs": [],
   "source": [
    "# Load the data contaning a list of URLs\n",
    "with open('list_urls.json', 'r') as file:\n",
    "    # Load the JSON data into a Python dictionary\n",
    "    urls = json.load(file)"
   ]
  },
  {
   "cell_type": "markdown",
   "id": "5e4c3040-15c4-49f4-9a0f-f761cda3aba1",
   "metadata": {},
   "source": [
    "# Scraping Function"
   ]
  },
  {
   "cell_type": "code",
   "execution_count": 10,
   "id": "fd6ec217-7464-4b74-a22e-a970acf99824",
   "metadata": {},
   "outputs": [],
   "source": [
    "def get_rym_data(url):\n",
    "    \"\"\"\n",
    "    INPUT: RYM URL corresponding to an album\n",
    "    OUTPUT: Updated dictionary containing as keys all the album ids and url_not_working\n",
    "    \"\"\"\n",
    "    \n",
    "    # Start the web browser\n",
    "    driver.get(url) \n",
    "\n",
    "    # Detect wrong url\n",
    "    try :\n",
    "        driver.find_element(By.XPATH,'.//div[@class=\"page_error_content\"]')\n",
    "        data[\"url_not_working\"].append(url)\n",
    "        time.sleep(5)\n",
    "        return data\n",
    "\n",
    "    except :\n",
    "        pass\n",
    "\n",
    "    # Building a unique identifier for the album\n",
    "    album_id = url.split(\"/album/\")[1]\n",
    "    if album_id in data.keys():\n",
    "        return data\n",
    "    \n",
    "    # Indicator if on last page of reviews\n",
    "    last_page = False\n",
    "\n",
    "    # Set of already retrieved reviews\n",
    "    reviews_unique = set()\n",
    "    \n",
    "    while not last_page:\n",
    "        \n",
    "        # Locate all the reviews for the current page\n",
    "        reviews = driver.find_elements(By.XPATH,'.//div[@id=\"column_container_right\"]//div[contains(@id,\"reviews\")]//div[contains(@id, \"std\")]')\n",
    "        \n",
    "        # Loop over the reviews\n",
    "        for review in reviews:\n",
    "        \n",
    "            # Extract the id of the review\n",
    "            id = review.get_attribute(\"id\")\n",
    "            if id in reviews_unique:\n",
    "                break\n",
    "            else:\n",
    "                reviews_unique.add(id)\n",
    "        \n",
    "            # Buildin the XPATH to detect the date (if ant)\n",
    "            xpath_date = f\".//div[contains(@id,'{id}')]//span[contains(@itemprop, 'datePublished')]\"\n",
    "            xpath_date2 = f\".//div[contains(@id,'{id}')]//span[contains(@class, 'review_date')]\"\n",
    "            try:\n",
    "                date = driver.find_element(By.XPATH, xpath_date).get_attribute('content')\n",
    "        \n",
    "            except:\n",
    "                try:\n",
    "                    date = driver.find_element(By.XPATH, xpath_date2).text\n",
    "                except:\n",
    "                    date = np.nan\n",
    "        \n",
    "            content = driver.find_element(By.XPATH, f\".//div[contains(@id,'{id}')]//span[@class='rendered_text']\").text\n",
    "        \n",
    "            # Building the XPATH to dectect the rating (if any)\n",
    "            xpath_rating = f\".//div[contains(@id,'{id}')]//img[contains(@alt, 'stars')]\"\n",
    "                \n",
    "            try:\n",
    "                rating = driver.find_element(By.XPATH, xpath_rating).get_attribute('title')\n",
    "        \n",
    "            except NoSuchElementException:\n",
    "                rating = np.nan\n",
    "        \n",
    "            # Appending the data to the dictionary        \n",
    "            data[album_id].append([id, date, content, rating])\n",
    "\n",
    "        #click next page\n",
    "        try:\n",
    "            # Wait for the element to be clickable\n",
    "            element = WebDriverWait(driver, 3).until(EC.element_to_be_clickable((By.XPATH, './/div[@class=\"review_list\"]//a[@class=\"navlinknext\"]')))\n",
    "            # Click on the element\n",
    "            driver.execute_script(\"arguments[0].click();\", element)\n",
    "            time.sleep(5)\n",
    "                \n",
    "        #if on last page then break from if condition\n",
    "        except:\n",
    "            return data"
   ]
  },
  {
   "cell_type": "code",
   "execution_count": 12,
   "id": "86b0c3be-4d31-4964-ba9a-c961e5b8d562",
   "metadata": {},
   "outputs": [],
   "source": [
    "for count, url in enumerate(urls[:100]):\n",
    "    print(count)\n",
    "    get_rym_data(url)"
   ]
  },
  {
   "cell_type": "code",
   "execution_count": 22,
   "id": "1d7f1244-6ec0-4ca5-8b64-e1ad8e66938d",
   "metadata": {},
   "outputs": [],
   "source": [
    "# Creating a copy of the batch\n",
    "reviews = data.copy()\n",
    "reviews.pop(\"url_not_working\")\n",
    "len(data.keys()), len(reviews)"
   ]
  },
  {
   "cell_type": "code",
   "execution_count": 16,
   "id": "c2b81b7c-0047-41c2-a7b0-05992b0df02d",
   "metadata": {},
   "outputs": [],
   "source": [
    "# Saving the batch to a df\n",
    "df = pd.DataFrame([(album, *review) for album, reviews in reviews.items() for review in reviews],\n",
    "                  columns=['Album', 'Review ID', 'Date', 'Text', 'Rating'])"
   ]
  },
  {
   "cell_type": "code",
   "execution_count": 17,
   "id": "76343c0e-02bf-4b59-941a-a29f37d163c3",
   "metadata": {},
   "outputs": [],
   "source": [
    "# Saving the reviews to a csv\n",
    "df.to_csv(\"batch1.csv\")"
   ]
  },
  {
   "cell_type": "code",
   "execution_count": 18,
   "id": "8167913d-5f64-4145-909f-f95da3a279ab",
   "metadata": {},
   "outputs": [],
   "source": [
    "# Write the not working url to a JSON file\n",
    "with open(\"url_not_working1.json\", \"w\") as json_file:\n",
    "    json_file.write(json.dumps(data[\"url_not_working\"]))"
   ]
  }
 ],
 "metadata": {
  "kernelspec": {
   "display_name": "Python 3 (ipykernel)",
   "language": "python",
   "name": "python3"
  },
  "language_info": {
   "codemirror_mode": {
    "name": "ipython",
    "version": 3
   },
   "file_extension": ".py",
   "mimetype": "text/x-python",
   "name": "python",
   "nbconvert_exporter": "python",
   "pygments_lexer": "ipython3",
   "version": "3.11.7"
  }
 },
 "nbformat": 4,
 "nbformat_minor": 5
}
